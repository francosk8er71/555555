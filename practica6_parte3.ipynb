{
  "nbformat": 4,
  "nbformat_minor": 0,
  "metadata": {
    "colab": {
      "name": "practica6_parte3.ipynb",
      "version": "0.3.2",
      "provenance": []
    },
    "kernelspec": {
      "display_name": "Python 3",
      "language": "python",
      "name": "python3"
    }
  },
  "cells": [
    {
      "metadata": {
        "id": "DLqZeLRaXrIY",
        "colab_type": "text"
      },
      "cell_type": "markdown",
      "source": [
        "# Práctica 6 Parte III. Reducción de la dimensionalidad"
      ]
    },
    {
      "metadata": {
        "id": "_Awr0NXAXrId",
        "colab_type": "text"
      },
      "cell_type": "markdown",
      "source": [
        "Vamos a ver cómo funciona el algoritmo de PCA utilizado un dataset muy conocido en el mundo del aprendizaje automático: el dataset de los dígitos. \n",
        "\n",
        "El dataset de los dígitos está compuesto por 1797 imágenes de dígitos manuscritos de tamaño 8x8. Este dataset se utiliza normalmente para algoritmos de clasificación (que veremos más adelante), pero también es un buen ejemplo para ver los algoritmos de clustering y de reducción de dimensionalidad. \n",
        "\n",
        "Cada dígito viene representado por un vector de 64 componentes que corresponden a los valores de cada pixel del dígito. Para más información sobre este dataset ver: http://scikit-learn.org/stable/auto_examples/datasets/plot_digits_last_image.html."
      ]
    },
    {
      "metadata": {
        "id": "VdD3C9U-XrIf",
        "colab_type": "text"
      },
      "cell_type": "markdown",
      "source": [
        "En esta parte de la práctica compararemos los resultados que se obtienen utilizando K-means y K-means combinado con PCA. Para ello empezamos cargando las librerías necesarias. "
      ]
    },
    {
      "metadata": {
        "id": "YiyWYyD0XrIk",
        "colab_type": "code",
        "colab": {}
      },
      "cell_type": "code",
      "source": [
        "from sklearn.cluster import KMeans\n",
        "from sklearn.datasets import load_digits\n",
        "from sklearn.decomposition import PCA\n",
        "from sklearn.preprocessing import scale\n",
        "import numpy as np\n",
        "from matplotlib import pyplot as plt\n",
        "%matplotlib inline"
      ],
      "execution_count": 0,
      "outputs": []
    },
    {
      "metadata": {
        "id": "XrXHTdjRXrIs",
        "colab_type": "text"
      },
      "cell_type": "markdown",
      "source": [
        "Fijamos la semilla para obtener siempre los mismos resultados."
      ]
    },
    {
      "metadata": {
        "id": "JsEgWUotXrIu",
        "colab_type": "code",
        "colab": {}
      },
      "cell_type": "code",
      "source": [
        "np.random.seed(42)"
      ],
      "execution_count": 0,
      "outputs": []
    },
    {
      "metadata": {
        "id": "5oEH3Gn7XrI1",
        "colab_type": "text"
      },
      "cell_type": "markdown",
      "source": [
        "Cargamos el dataset de los dígitos."
      ]
    },
    {
      "metadata": {
        "id": "OcVDnEAMXrI3",
        "colab_type": "code",
        "colab": {}
      },
      "cell_type": "code",
      "source": [
        "digits = load_digits()"
      ],
      "execution_count": 0,
      "outputs": []
    },
    {
      "metadata": {
        "id": "rPzQSmokXrI-",
        "colab_type": "text"
      },
      "cell_type": "markdown",
      "source": [
        "Obtenemos los descriptores de las instancias y estandarizamos (veremos en qué consiste este proceso más adelante) el dataset."
      ]
    },
    {
      "metadata": {
        "id": "6Vouy_G_XrJA",
        "colab_type": "code",
        "colab": {}
      },
      "cell_type": "code",
      "source": [
        "data = scale(digits.data)"
      ],
      "execution_count": 0,
      "outputs": []
    },
    {
      "metadata": {
        "id": "upc2KeQ5orr3",
        "colab_type": "code",
        "outputId": "b1c28859-69e2-41db-e69b-66b2cbabcfb4",
        "colab": {
          "base_uri": "https://localhost:8080/",
          "height": 136
        }
      },
      "cell_type": "code",
      "source": [
        "digits.data"
      ],
      "execution_count": 0,
      "outputs": [
        {
          "output_type": "execute_result",
          "data": {
            "text/plain": [
              "array([[ 0.,  0.,  5., ...,  0.,  0.,  0.],\n",
              "       [ 0.,  0.,  0., ..., 10.,  0.,  0.],\n",
              "       [ 0.,  0.,  0., ..., 16.,  9.,  0.],\n",
              "       ...,\n",
              "       [ 0.,  0.,  1., ...,  6.,  0.,  0.],\n",
              "       [ 0.,  0.,  2., ..., 12.,  0.,  0.],\n",
              "       [ 0.,  0., 10., ..., 12.,  1.,  0.]])"
            ]
          },
          "metadata": {
            "tags": []
          },
          "execution_count": 20
        }
      ]
    },
    {
      "metadata": {
        "id": "iPVwzx52XrJF",
        "colab_type": "text"
      },
      "cell_type": "markdown",
      "source": [
        "Mostramos el número de instancias del dataset y el número de descriptores."
      ]
    },
    {
      "metadata": {
        "id": "TPg1y-0eXrJK",
        "colab_type": "code",
        "outputId": "3a23aabd-ee60-40fa-b9f7-cd40022ec757",
        "colab": {
          "base_uri": "https://localhost:8080/",
          "height": 34
        }
      },
      "cell_type": "code",
      "source": [
        "n_instancias, n_descriptores = data.shape\n",
        "print(\"n_instancias %d, n_descriptores %d\" % (n_instancias, n_descriptores))"
      ],
      "execution_count": 0,
      "outputs": [
        {
          "output_type": "stream",
          "text": [
            "n_instancias 1797, n_descriptores 64\n"
          ],
          "name": "stdout"
        }
      ]
    },
    {
      "metadata": {
        "id": "a5zIfm68XrJQ",
        "colab_type": "text"
      },
      "cell_type": "markdown",
      "source": [
        "Construimos el estimador K-means. Tenemos 10 clusters ya que de antemano sabemos que hay 10 posibles dígitos y por lo tanto 10 posibles grupos."
      ]
    },
    {
      "metadata": {
        "id": "GFpDQecsXrJS",
        "colab_type": "code",
        "colab": {}
      },
      "cell_type": "code",
      "source": [
        "estimator = KMeans(n_clusters=10)"
      ],
      "execution_count": 0,
      "outputs": []
    },
    {
      "metadata": {
        "id": "N4UCohQlXrJZ",
        "colab_type": "text"
      },
      "cell_type": "markdown",
      "source": [
        "Realizamos la agrupación por clusters y mostramos el tiempo necesario"
      ]
    },
    {
      "metadata": {
        "id": "xEZRwKPpXrJc",
        "colab_type": "code",
        "outputId": "785431ea-b1e9-4946-9296-f10165f35f7d",
        "colab": {
          "base_uri": "https://localhost:8080/",
          "height": 102
        }
      },
      "cell_type": "code",
      "source": [
        "%%time \n",
        "estimator.fit(data)"
      ],
      "execution_count": 0,
      "outputs": [
        {
          "output_type": "stream",
          "text": [
            "CPU times: user 324 ms, sys: 188 ms, total: 511 ms\n",
            "Wall time: 268 ms\n"
          ],
          "name": "stdout"
        },
        {
          "output_type": "execute_result",
          "data": {
            "text/plain": [
              "KMeans(algorithm='auto', copy_x=True, init='k-means++', max_iter=300,\n",
              "    n_clusters=10, n_init=10, n_jobs=None, precompute_distances='auto',\n",
              "    random_state=None, tol=0.0001, verbose=0)"
            ]
          },
          "metadata": {
            "tags": []
          },
          "execution_count": 8
        }
      ]
    },
    {
      "metadata": {
        "id": "amED7EAqXrJi",
        "colab_type": "text"
      },
      "cell_type": "markdown",
      "source": [
        "Ahora definimos una función que nos indica para cada clase la distribución en clusters. Notad que los clusters no están ordenados."
      ]
    },
    {
      "metadata": {
        "id": "XFj54cqtXrJk",
        "colab_type": "code",
        "colab": {}
      },
      "cell_type": "code",
      "source": [
        "def valida_digits(etiquetas_esperadas, etiquetas_obtenidas):\n",
        "    for i in range(0,10):\n",
        "        res = np.zeros(10).astype(\"uint8\")\n",
        "        for j,etiqueta in enumerate(etiquetas_esperadas):\n",
        "            if(etiqueta==i):\n",
        "                res[etiquetas_obtenidas[j]]+=1\n",
        "        print(\"Dígito \" + str(i) + \": \")\n",
        "        print(res)"
      ],
      "execution_count": 0,
      "outputs": []
    },
    {
      "metadata": {
        "id": "7Gcp_VAiXrJq",
        "colab_type": "text"
      },
      "cell_type": "markdown",
      "source": [
        "Mostramos la distribución de los dígitos."
      ]
    },
    {
      "metadata": {
        "id": "vdbje5V1XrJr",
        "colab_type": "code",
        "outputId": "ebafe2e5-022f-45df-c369-84948526f87e",
        "colab": {
          "base_uri": "https://localhost:8080/",
          "height": 357
        }
      },
      "cell_type": "code",
      "source": [
        "valida_digits(digits.target,estimator.labels_)"
      ],
      "execution_count": 0,
      "outputs": [
        {
          "output_type": "stream",
          "text": [
            "Dígito 0: \n",
            "[177   0   0   0   1   0   0   0   0   0]\n",
            "Dígito 1: \n",
            "[ 0  0  0 96  1  0 27  0  0 58]\n",
            "Dígito 2: \n",
            "[ 0  0  2 34  0  0 48  6 82  5]\n",
            "Dígito 3: \n",
            "[  0   0   8   9   0   0   1 152  13   0]\n",
            "Dígito 4: \n",
            "[  0   0   4   3 157   9   0   0   0   8]\n",
            "Dígito 5: \n",
            "[ 0  2  2 59  2  0  0 72 43  2]\n",
            "Dígito 6: \n",
            "[  1 175   0   4   0   0   0   0   0   1]\n",
            "Dígito 7: \n",
            "[  0   0 150   0   0  18   0   0   8   3]\n",
            "Dígito 8: \n",
            "[ 0  3  2 99  0  0  0 46  9 15]\n",
            "Dígito 9: \n",
            "[  0   0   8   5   0   3   0 145   0  19]\n"
          ],
          "name": "stdout"
        }
      ]
    },
    {
      "metadata": {
        "id": "pEtkDeQGXrJw",
        "colab_type": "text"
      },
      "cell_type": "markdown",
      "source": [
        "Repetimos el proceso pero esta vez aplicando el algoritmo de PCA tomando 20 componentes principales"
      ]
    },
    {
      "metadata": {
        "id": "fZAdRnxYXrJy",
        "colab_type": "code",
        "outputId": "bd13c280-a407-4996-b36d-7e6f4275fdcb",
        "colab": {
          "base_uri": "https://localhost:8080/",
          "height": 51
        }
      },
      "cell_type": "code",
      "source": [
        "%%time \n",
        "pca = PCA(n_components=20).fit(data)\n",
        "data_r = pca.transform(data)\n",
        "estimator = KMeans(n_clusters=10)\n",
        "estimator.fit(data_r)"
      ],
      "execution_count": 0,
      "outputs": [
        {
          "output_type": "stream",
          "text": [
            "CPU times: user 273 ms, sys: 281 ms, total: 554 ms\n",
            "Wall time: 291 ms\n"
          ],
          "name": "stdout"
        }
      ]
    },
    {
      "metadata": {
        "id": "FgkSQYYsXrJ6",
        "colab_type": "code",
        "outputId": "5d539628-290f-423e-a42e-5490935a97eb",
        "colab": {
          "base_uri": "https://localhost:8080/",
          "height": 357
        }
      },
      "cell_type": "code",
      "source": [
        "valida_digits(digits.target,estimator.labels_)"
      ],
      "execution_count": 0,
      "outputs": [
        {
          "output_type": "stream",
          "text": [
            "Dígito 0: \n",
            "[  0   0 177   0   0   0   0   1   0   0]\n",
            "Dígito 1: \n",
            "[58  0  0 96  0  0 27  0  0  1]\n",
            "Dígito 2: \n",
            "[ 6 78  0 36  0  0 51  0  4  2]\n",
            "Dígito 3: \n",
            "[  0  13   0   8   0   0   2   0 151   9]\n",
            "Dígito 4: \n",
            "[  7   0   0   4   9   0   0 157   0   4]\n",
            "Dígito 5: \n",
            "[ 2 42  0 61  0  3  0  2 70  2]\n",
            "Dígito 6: \n",
            "[  1   0   1   4   0 172   3   0   0   0]\n",
            "Dígito 7: \n",
            "[  3   8   0   0  17   0   0   1   0 150]\n",
            "Dígito 8: \n",
            "[16  8  0 97  0  3  0  0 47  3]\n",
            "Dígito 9: \n",
            "[ 19   0   0   4   3   0   3   0 142   9]\n"
          ],
          "name": "stdout"
        }
      ]
    },
    {
      "metadata": {
        "id": "Z8KQ5drNXrJ-",
        "colab_type": "text"
      },
      "cell_type": "markdown",
      "source": [
        "***\n",
        "## Ejercicio \n",
        "Compara los resultados tanto en tiempo, como en distribución de los clusters utilizando PCA y sin utilizarlo."
      ]
    },
    {
      "metadata": {
        "id": "pIxR75i_XrJ_",
        "colab_type": "code",
        "outputId": "f32e8bf2-c241-491c-8e96-37accfeb17cb",
        "colab": {
          "base_uri": "https://localhost:8080/",
          "height": 391
        }
      },
      "cell_type": "code",
      "source": [
        "%%time \n",
        "valida_digits(digits.target,estimator.labels_)"
      ],
      "execution_count": 0,
      "outputs": [
        {
          "output_type": "stream",
          "text": [
            "Dígito 0: \n",
            "[  0   0 177   0   0   0   0   0   1   0]\n",
            "Dígito 1: \n",
            "[ 0  0  0 58 97  0  0 27  0  0]\n",
            "Dígito 2: \n",
            "[ 0  4  0  4 35  3 78 53  0  0]\n",
            "Dígito 3: \n",
            "[  0 159   0   0   6  10   6   2   0   0]\n",
            "Dígito 4: \n",
            "[  0   0   0   6   3   4   1   0 157  10]\n",
            "Dígito 5: \n",
            "[ 4 76  0  3 20  5 70  0  4  0]\n",
            "Dígito 6: \n",
            "[174   0   1   1   5   0   0   0   0   0]\n",
            "Dígito 7: \n",
            "[  0   0   0   3   1 149   8   0   1  17]\n",
            "Dígito 8: \n",
            "[ 3 45  0 16 94  4 12  0  0  0]\n",
            "Dígito 9: \n",
            "[  0 142   0  19   3   9   1   3   0   3]\n",
            "CPU times: user 15.4 ms, sys: 4.22 ms, total: 19.6 ms\n",
            "Wall time: 30.4 ms\n"
          ],
          "name": "stdout"
        }
      ]
    },
    {
      "metadata": {
        "id": "euwyTG1MkOyY",
        "colab_type": "code",
        "outputId": "f642d925-78ee-4046-d88b-70b63a80db57",
        "colab": {
          "base_uri": "https://localhost:8080/",
          "height": 68
        }
      },
      "cell_type": "code",
      "source": [
        "pca = PCA(n_components=20).fit(data)\n",
        "data_r = pca.transform(data)\n",
        "estimator = KMeans(n_clusters=10)\n",
        "estimator.fit(data_r)"
      ],
      "execution_count": 0,
      "outputs": [
        {
          "output_type": "execute_result",
          "data": {
            "text/plain": [
              "KMeans(algorithm='auto', copy_x=True, init='k-means++', max_iter=300,\n",
              "    n_clusters=10, n_init=10, n_jobs=None, precompute_distances='auto',\n",
              "    random_state=None, tol=0.0001, verbose=0)"
            ]
          },
          "metadata": {
            "tags": []
          },
          "execution_count": 21
        }
      ]
    },
    {
      "metadata": {
        "id": "AiBAwgjck_XU",
        "colab_type": "code",
        "outputId": "27ed3d6a-81ec-4c60-f896-c499fbc643d0",
        "colab": {
          "base_uri": "https://localhost:8080/",
          "height": 391
        }
      },
      "cell_type": "code",
      "source": [
        "%%time \n",
        "valida_digits(digits.target,estimator.labels_)"
      ],
      "execution_count": 0,
      "outputs": [
        {
          "output_type": "stream",
          "text": [
            "Dígito 0: \n",
            "[  0   0 177   0   0   0   0   0   1   0]\n",
            "Dígito 1: \n",
            "[ 0  0  0 58 97  0  0 27  0  0]\n",
            "Dígito 2: \n",
            "[ 0  4  0  4 35  3 78 53  0  0]\n",
            "Dígito 3: \n",
            "[  0 159   0   0   6  10   6   2   0   0]\n",
            "Dígito 4: \n",
            "[  0   0   0   6   3   4   1   0 157  10]\n",
            "Dígito 5: \n",
            "[ 4 76  0  3 20  5 70  0  4  0]\n",
            "Dígito 6: \n",
            "[174   0   1   1   5   0   0   0   0   0]\n",
            "Dígito 7: \n",
            "[  0   0   0   3   1 149   8   0   1  17]\n",
            "Dígito 8: \n",
            "[ 3 45  0 16 94  4 12  0  0  0]\n",
            "Dígito 9: \n",
            "[  0 142   0  19   3   9   1   3   0   3]\n",
            "CPU times: user 15.5 ms, sys: 1.56 ms, total: 17 ms\n",
            "Wall time: 20.6 ms\n"
          ],
          "name": "stdout"
        }
      ]
    },
    {
      "metadata": {
        "id": "22bvfaYBXrKH",
        "colab_type": "text"
      },
      "cell_type": "markdown",
      "source": [
        "***"
      ]
    },
    {
      "metadata": {
        "id": "ytIGSw97XrKI",
        "colab_type": "text"
      },
      "cell_type": "markdown",
      "source": [
        "Utilizando los siguientes comandos podemos ver el porcentaje de varianza explicado por cada una de las componentes de PCA y el total."
      ]
    },
    {
      "metadata": {
        "id": "Ryk8rfnJXrKK",
        "colab_type": "code",
        "outputId": "44865c39-528e-4ad6-a36c-f44542aaf13c",
        "colab": {
          "base_uri": "https://localhost:8080/",
          "height": 102
        }
      },
      "cell_type": "code",
      "source": [
        "print(pca.explained_variance_ratio_)\n",
        "print(\"Varianza total: \" + str(100*np.sum(pca.explained_variance_ratio_))+ \"%\")"
      ],
      "execution_count": 0,
      "outputs": [
        {
          "output_type": "stream",
          "text": [
            "[0.12033916 0.09561054 0.08444415 0.06498408 0.04860155 0.0421412\n",
            " 0.03942082 0.0338938  0.02998212 0.02931987 0.02781801 0.02577005\n",
            " 0.02275247 0.02227142 0.02165047 0.01914085 0.01775405 0.01636166\n",
            " 0.01595909 0.01488388]\n",
            "Varianza total: 79.30992470956124%\n"
          ],
          "name": "stdout"
        }
      ]
    },
    {
      "metadata": {
        "id": "HtV3KN4bXrKQ",
        "colab_type": "text"
      },
      "cell_type": "markdown",
      "source": [
        "La siguiente función nos genera un gráfico mostrando la varianza acumulada y la varianza individual que se obtiene al considerar distintos valores como componentes principales (en concreto va tomando valores entre 1 y el número de descriptores). Además esta función muestra la varianza total para cada caso."
      ]
    },
    {
      "metadata": {
        "id": "RDm3uR0_XrKS",
        "colab_type": "code",
        "colab": {}
      },
      "cell_type": "code",
      "source": [
        "def drawVarianza(data):\n",
        "    pcas = [PCA(n_components=k).fit(data) for k in range(1,len(data[0]))]\n",
        "    var = [pca.explained_variance_ratio_[-1] for pca in pcas]\n",
        "    varianzas = [np.sum(pca.explained_variance_ratio_) for pca in pcas]\n",
        "    for k in range(1,len(data[0])):\n",
        "        print(\"Varianza total (%s componentes): %s\" % (k,str(100 * varianzas[k-1])))\n",
        "    plt.clf()\n",
        "\n",
        "    plt.step(range(1,len(data[0])),varianzas,where='mid',label='varianza acumulada')\n",
        "    plt.bar(range(1,len(data[0])),var,alpha=0.5,align='center',label='varianza individual')\n",
        "    plt.xlabel('Componentes principales')\n",
        "    plt.ylabel('Ratio de varianza explicada')\n",
        "    plt.show()"
      ],
      "execution_count": 0,
      "outputs": []
    },
    {
      "metadata": {
        "id": "SMSbcFAvXrKc",
        "colab_type": "code",
        "outputId": "86f19b3e-4dec-4818-baf4-9e8714d62be3",
        "colab": {
          "base_uri": "https://localhost:8080/",
          "height": 1350
        }
      },
      "cell_type": "code",
      "source": [
        "drawVarianza(data)"
      ],
      "execution_count": 0,
      "outputs": [
        {
          "output_type": "stream",
          "text": [
            "Varianza total (1 componentes): 12.033916084274178\n",
            "Varianza total (2 componentes): 21.594970458873853\n",
            "Varianza total (3 componentes): 30.03938537923272\n",
            "Varianza total (4 componentes): 36.537793249128015\n",
            "Varianza total (5 componentes): 41.39794771048921\n",
            "Varianza total (6 componentes): 45.6120570081848\n",
            "Varianza total (7 componentes): 49.55156682753874\n",
            "Varianza total (8 componentes): 52.939986886127556\n",
            "Varianza total (9 componentes): 55.93668776836248\n",
            "Varianza total (10 componentes): 58.863674498688646\n",
            "Varianza total (11 componentes): 61.651620484776835\n",
            "Varianza total (12 componentes): 64.23022624256984\n",
            "Varianza total (13 componentes): 66.50582797862162\n",
            "Varianza total (14 componentes): 68.73319060296406\n",
            "Varianza total (15 componentes): 70.89824570271456\n",
            "Varianza total (16 componentes): 72.81339336979941\n",
            "Varianza total (17 componentes): 74.58289656905067\n",
            "Varianza total (18 componentes): 76.22519455634607\n",
            "Varianza total (19 componentes): 77.81941997896728\n",
            "Varianza total (20 componentes): 79.30971098713042\n",
            "Varianza total (21 componentes): 80.65952132175059\n",
            "Varianza total (22 componentes): 81.91736158960124\n",
            "Varianza total (23 componentes): 83.09360051247278\n",
            "Varianza total (24 componentes): 84.15394349888659\n",
            "Varianza total (25 componentes): 85.11993979753511\n",
            "Varianza total (26 componentes): 86.07312648358523\n",
            "Varianza total (27 componentes): 86.93131210700912\n",
            "Varianza total (28 componentes): 87.76173509644308\n",
            "Varianza total (29 componentes): 88.56917526556133\n",
            "Varianza total (30 componentes): 89.31829895649238\n",
            "Varianza total (31 componentes): 90.04299374379163\n",
            "Varianza total (32 componentes): 90.73592881994816\n",
            "Varianza total (33 componentes): 91.39045413028526\n",
            "Varianza total (34 componentes): 92.03076314581322\n",
            "Varianza total (35 componentes): 92.62197739229843\n",
            "Varianza total (36 componentes): 93.19320985133133\n",
            "Varianza total (37 componentes): 93.7171584782697\n",
            "Varianza total (38 componentes): 94.1975377467687\n",
            "Varianza total (39 componentes): 94.63875732627429\n",
            "Varianza total (40 componentes): 95.07582692438487\n",
            "Varianza total (41 componentes): 95.48300812373883\n",
            "Varianza total (42 componentes): 95.87983107905379\n",
            "Varianza total (43 componentes): 96.23527350919908\n",
            "Varianza total (44 componentes): 96.57757682000106\n",
            "Varianza total (45 componentes): 96.90581040774427\n",
            "Varianza total (46 componentes): 97.21668066937389\n",
            "Varianza total (47 componentes): 97.50486142011631\n",
            "Varianza total (48 componentes): 97.78216527323869\n",
            "Varianza total (49 componentes): 98.04094253749402\n",
            "Varianza total (50 componentes): 98.27584191357455\n",
            "Varianza total (51 componentes): 98.49417631792721\n",
            "Varianza total (52 componentes): 98.6977739524527\n",
            "Varianza total (53 componentes): 98.89328637847252\n",
            "Varianza total (54 componentes): 99.07660487766971\n",
            "Varianza total (55 componentes): 99.2445512651653\n",
            "Varianza total (56 componentes): 99.40578732742202\n",
            "Varianza total (57 componentes): 99.55355002152811\n",
            "Varianza total (58 componentes): 99.6886684328652\n",
            "Varianza total (59 componentes): 99.8137691753625\n",
            "Varianza total (60 componentes): 99.91746490551822\n",
            "Varianza total (61 componentes): 100.00000000000003\n",
            "Varianza total (62 componentes): 100.00000000000003\n",
            "Varianza total (63 componentes): 100.00000000000003\n"
          ],
          "name": "stdout"
        },
        {
          "output_type": "display_data",
          "data": {
            "image/png": "[encoded data removed]",
            "text/plain": [
              "<Figure size 432x288 with 1 Axes>"
            ]
          },
          "metadata": {
            "tags": []
          }
        }
      ]
    },
    {
      "metadata": {
        "id": "3nS8SrouXrKl",
        "colab_type": "text"
      },
      "cell_type": "markdown",
      "source": [
        "*** \n",
        "## Ejercicio\n",
        "En clase hemos visto que para elegir el número de componentes k, debemos tomar el menor k tal que la varianza total sea mayor que el 99%. En nuestro caso, ¿qué valor deberíamos tomar?"
      ]
    },
    {
      "metadata": {
        "id": "YdMRW9_9m0RY",
        "colab_type": "text"
      },
      "cell_type": "markdown",
      "source": [
        "54 componentes"
      ]
    },
    {
      "metadata": {
        "id": "rQfBJTZxXrKt",
        "colab_type": "text"
      },
      "cell_type": "markdown",
      "source": [
        "***"
      ]
    },
    {
      "metadata": {
        "id": "R02t6x4zXrKu",
        "colab_type": "text"
      },
      "cell_type": "markdown",
      "source": [
        "## Ejercicio adicional\n",
        "Recupera los ficheros de la práctica 5 y repite el análisis hecho para el dataset de los dígitos, pero esta vez utilizando el dataset iris.csv.\n"
      ]
    },
    {
      "metadata": {
        "id": "905HfH59jezC",
        "colab_type": "code",
        "outputId": "a589ca44-0769-48c6-8ea4-d8c93c1ad18f",
        "colab": {
          "base_uri": "https://localhost:8080/",
          "height": 204
        }
      },
      "cell_type": "code",
      "source": [
        "!wget https://raw.githubusercontent.com/IA1819/Datasets/master/iris.csv -O iris.csv\n",
        "import pandas as pd"
      ],
      "execution_count": 0,
      "outputs": [
        {
          "output_type": "stream",
          "text": [
            "--2019-03-20 19:37:08--  https://raw.githubusercontent.com/IA1819/Datasets/master/iris.csv\n",
            "Resolving raw.githubusercontent.com (raw.githubusercontent.com)... 151.101.0.133, 151.101.64.133, 151.101.128.133, ...\n",
            "Connecting to raw.githubusercontent.com (raw.githubusercontent.com)|151.101.0.133|:443... connected.\n",
            "HTTP request sent, awaiting response... 200 OK\n",
            "Length: 4606 (4.5K) [text/plain]\n",
            "Saving to: ‘iris.csv’\n",
            "\n",
            "\riris.csv              0%[                    ]       0  --.-KB/s               \riris.csv            100%[===================>]   4.50K  --.-KB/s    in 0s      \n",
            "\n",
            "2019-03-20 19:37:08 (83.3 MB/s) - ‘iris.csv’ saved [4606/4606]\n",
            "\n"
          ],
          "name": "stdout"
        }
      ]
    },
    {
      "metadata": {
        "id": "AVnkFKqSlWlR",
        "colab_type": "code",
        "colab": {}
      },
      "cell_type": "code",
      "source": [
        "df = pd.read_csv('iris.csv')\n",
        "X = df.iloc[:,:-1]"
      ],
      "execution_count": 0,
      "outputs": []
    },
    {
      "metadata": {
        "id": "2C3rL00SXrKv",
        "colab_type": "code",
        "outputId": "6409d517-4bf9-48a3-f5c0-451bc31acbc6",
        "colab": {
          "base_uri": "https://localhost:8080/",
          "height": 34
        }
      },
      "cell_type": "code",
      "source": [
        "estimator.fit(X)\n",
        "n_instancias, n_descriptores = X.shape\n",
        "print(\"n_instancias %d, n_descriptores %d\" % (n_instancias, n_descriptores))"
      ],
      "execution_count": 0,
      "outputs": [
        {
          "output_type": "stream",
          "text": [
            "n_instancias 150, n_descriptores 4\n"
          ],
          "name": "stdout"
        }
      ]
    },
    {
      "metadata": {
        "id": "a3nG01msnUt8",
        "colab_type": "code",
        "outputId": "5c3cc33d-7a73-44d4-9814-708d4d7e612d",
        "colab": {
          "base_uri": "https://localhost:8080/",
          "height": 68
        }
      },
      "cell_type": "code",
      "source": [
        "estimator = KMeans(n_clusters=10)\n",
        "estimator.fit(X.values)"
      ],
      "execution_count": 0,
      "outputs": [
        {
          "output_type": "execute_result",
          "data": {
            "text/plain": [
              "KMeans(algorithm='auto', copy_x=True, init='k-means++', max_iter=300,\n",
              "    n_clusters=10, n_init=10, n_jobs=None, precompute_distances='auto',\n",
              "    random_state=None, tol=0.0001, verbose=0)"
            ]
          },
          "metadata": {
            "tags": []
          },
          "execution_count": 27
        }
      ]
    },
    {
      "metadata": {
        "id": "vgqb4CTMndMw",
        "colab_type": "code",
        "colab": {}
      },
      "cell_type": "code",
      "source": [
        "def valida_digits(etiquetas_esperadas, etiquetas_obtenidas):\n",
        "    for i in range(0,10):\n",
        "        res = np.zeros(10).astype(\"uint8\")\n",
        "        for j,etiqueta in enumerate(etiquetas_esperadas):\n",
        "            if(etiqueta==i):\n",
        "                res[etiquetas_obtenidas[j]]+=1\n",
        "        print(\"Dígito \" + str(i) + \": \")\n",
        "        print(res)"
      ],
      "execution_count": 0,
      "outputs": []
    },
    {
      "metadata": {
        "id": "l4nRlHlHp-et",
        "colab_type": "code",
        "colab": {}
      },
      "cell_type": "code",
      "source": [
        ""
      ],
      "execution_count": 0,
      "outputs": []
    },
    {
      "metadata": {
        "id": "2I2SsoPzXszp",
        "colab_type": "text"
      },
      "cell_type": "markdown",
      "source": [
        "## Entrega\n",
        "\n",
        "Recuerda guardar tus cambios en tu repositorio utilizando la opción \"Save a copy in GitHub...\" del menú File."
      ]
    }
  ]
}